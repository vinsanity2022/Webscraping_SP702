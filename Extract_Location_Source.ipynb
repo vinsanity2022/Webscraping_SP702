{
 "cells": [
  {
   "cell_type": "markdown",
   "id": "bc4d63aa",
   "metadata": {},
   "source": [
    "## Task 5 Extracting location data (Hotel, Restaurant, and Tourist sites)"
   ]
  },
  {
   "cell_type": "markdown",
   "id": "11627fd2",
   "metadata": {},
   "source": [
    "### <span style=\"color:Red;\"> I recommend that you should start in Task 1 to install the libraries needed and to avoid error running this notebook. Thank you"
   ]
  },
  {
   "cell_type": "code",
   "execution_count": null,
   "id": "8b3ae452",
   "metadata": {},
   "outputs": [],
   "source": [
    "pip install requests"
   ]
  },
  {
   "cell_type": "code",
   "execution_count": null,
   "id": "f9cc1f7b",
   "metadata": {},
   "outputs": [],
   "source": [
    "# Run this code to restart the kernel and apply the newly installed libraries.\n",
    "from IPython.core.display import HTML\n",
    "HTML(\"<script>Jupyter.notebook.kernel.restart()</script>\")"
   ]
  },
  {
   "cell_type": "markdown",
   "id": "55d1c837",
   "metadata": {},
   "source": [
    "## Importing libraries"
   ]
  },
  {
   "cell_type": "code",
   "execution_count": 170,
   "id": "da3c734e",
   "metadata": {},
   "outputs": [],
   "source": [
    "import pandas as pd\n",
    "from bs4 import BeautifulSoup\n",
    "import requests\n",
    "import os\n",
    "from selenium.webdriver.common.keys import Keys\n",
    "import platform\n",
    "from msedge.selenium_tools import Edge, EdgeOptions\n",
    "from selenium.webdriver.common.by import By\n",
    "from selenium import webdriver\n",
    "import time\n",
    "import random\n",
    "from selenium.common.exceptions import NoSuchElementException\n",
    "from selenium.webdriver.edge.service import Service"
   ]
  },
  {
   "cell_type": "markdown",
   "id": "9d75799f",
   "metadata": {},
   "source": [
    "### To check OS if you are in Windows or Mac\n",
    "##### <span style=\"color:blue;\"> Please don't forget to run this code block and dont worry about this as it will not install anything on your laptop/PC as I already included in the submission folder the necessary driver"
   ]
  },
  {
   "cell_type": "code",
   "execution_count": 161,
   "id": "1cebfea7",
   "metadata": {},
   "outputs": [],
   "source": [
    "def chks_plat():\n",
    "    if platform.system() == 'Windows':\n",
    "        # Set the WebDriver executable path for Windows\n",
    "        service  ='msedgedriver.exe'\n",
    "    else:\n",
    "        # Set the WebDriver executable path for macOS\n",
    "        service ='msedgedriver'\n",
    "        \n",
    "    return service"
   ]
  },
  {
   "cell_type": "code",
   "execution_count": 162,
   "id": "19b09630",
   "metadata": {},
   "outputs": [
    {
     "data": {
      "text/plain": [
       "'msedgedriver.exe'"
      ]
     },
     "execution_count": 162,
     "metadata": {},
     "output_type": "execute_result"
    }
   ],
   "source": [
    "# run this code to assign driver\n",
    "CHKS = chks_plat()\n",
    "# as Im running this code on windows Ive got the webdriver with .exe file extension\n",
    "CHKS"
   ]
  },
  {
   "cell_type": "markdown",
   "id": "5c990881",
   "metadata": {},
   "source": [
    "## Population data from PSA"
   ]
  },
  {
   "cell_type": "markdown",
   "id": "4fa2ae13",
   "metadata": {},
   "source": [
    "#### <span style=\"color:red;\">The code below will always print File already exist</strong></span><span style=\"color:green;\"> because the file is already been downloaded</span>"
   ]
  },
  {
   "cell_type": "code",
   "execution_count": 2,
   "id": "d8f59d73",
   "metadata": {},
   "outputs": [
    {
     "name": "stdout",
     "output_type": "stream",
     "text": [
      "File 'RegionVII.xlsx' already exists. Skipping download.\n"
     ]
    }
   ],
   "source": [
    "url = 'https://psa.gov.ph/system/files/phcd/Region%20VII.xlsx' # source\n",
    "file_name = 'RegionVII.xlsx'\n",
    "\n",
    "# Check if the file already exists, if not, it will pull the file from the PSA webpage\n",
    "if not os.path.exists(file_name):\n",
    "    with open(file_name, 'wb') as f:\n",
    "        f.write(requests.get(url).content)\n",
    "    print(f\"File '{file_name}' downloaded successfully.\")\n",
    "else:\n",
    "    print(f\"File '{file_name}' already exists. Skipping download.\")"
   ]
  },
  {
   "cell_type": "markdown",
   "id": "eb8b48f5",
   "metadata": {},
   "source": [
    "## Extracting population data\n",
    "### <span style=\"color:blue;\">Were gonna extract the population data from PSA.</span>"
   ]
  },
  {
   "cell_type": "code",
   "execution_count": 47,
   "id": "e6ba8868",
   "metadata": {},
   "outputs": [],
   "source": [
    "# The file path to PSA data\n",
    "xlsx_file_path = 'RegionVII.xlsx'"
   ]
  },
  {
   "cell_type": "code",
   "execution_count": 48,
   "id": "1b406030",
   "metadata": {},
   "outputs": [],
   "source": [
    "# This function will rename columns and search for location of the population data\n",
    "def rename_col(df, search_loc):\n",
    "    \n",
    "    df.rename(columns={'Unnamed: 0': 'City/Mun', \n",
    "                      'Unnamed: 1': 'Total Population', \n",
    "                      'Unnamed: 2': 'Household Population',\n",
    "                      'Unnamed: 3': 'Numnber of Household'}, inplace=True)\n",
    "    \n",
    "    for index, row in df.iterrows():\n",
    "        if row['City/Mun'] == search_loc:\n",
    "            return row "
   ]
  },
  {
   "cell_type": "markdown",
   "id": "6f511f53",
   "metadata": {},
   "source": [
    "### <span style=\"color:blue;\">Cebu City, Lapu lapu City, Moalboal Mun, Mandaue City</span>\n",
    "###### were gonna store the population value in separate variable, one for each group"
   ]
  },
  {
   "cell_type": "code",
   "execution_count": 81,
   "id": "d6f51168",
   "metadata": {},
   "outputs": [],
   "source": [
    "# In this block we are going to change the header of the dataframe and search for the specific row on where the\n",
    "# total population data on each Muncipality/City will be extracted.\n",
    "\n",
    "df_cebcty = pd.read_excel(xlsx_file_path, sheet_name='City of Cebu', skiprows = 6)\n",
    "cebcty = rename_col(df_cebcty, 'CITY OF CEBU (Capital)')\n",
    "\n",
    "df_lapcty = pd.read_excel(xlsx_file_path, sheet_name='City of Lapu-Lapu', skiprows = 6)\n",
    "lapcty = rename_col(df_lapcty, 'CITY OF LAPU-LAPU (OPON)')\n",
    "\n",
    "df_moalmun = pd.read_excel(xlsx_file_path, sheet_name='Cebu', skiprows=6)\n",
    "moalmun = rename_col(df_moalmun, 'MOALBOAL')\n",
    "\n",
    "df_mancty = pd.read_excel(xlsx_file_path, sheet_name='City of Mandaue', skiprows=6)\n",
    "mancty = rename_col(df_mancty, 'CITY OF MANDAUE')"
   ]
  },
  {
   "cell_type": "markdown",
   "id": "4a932931",
   "metadata": {},
   "source": [
    "### <span style=\"color:blue;\">Province</span>\n",
    "#### <span style=\"color:blue;\">This group is consisting of 7 count of Municipalities ('Badian', 'Dalaguete', 'Oslob' (2 counts), 'Samboan', 'Sibonga', and 'Santa Fe') which doesnt belong to the 4 groups above but they are all located in the same Province which is Cebu</span>\n",
    "\n",
    "\n",
    "###### The location data I had scraped from the website in Task 1,2, and 3 some of them was inaccurate, so  I have to update  the \"Lindogon Simala\" to \"(SIBONGA)\" and \"Sumilon Island\" to \"(OSLOB)."
   ]
  },
  {
   "cell_type": "code",
   "execution_count": 313,
   "id": "022305a1",
   "metadata": {
    "scrolled": true
   },
   "outputs": [],
   "source": [
    "df_prov = pd.read_excel(xlsx_file_path, sheet_name='Cebu', skiprows=6)\n",
    "mun_list = ['BADIAN', 'DALAGUETE', 'OSLOB', 'SAMBOAN', 'SIBONGA', 'SANTA FE']\n",
    "list_prov = []\n",
    "list_prov_val = []\n",
    "\n",
    "# In this loop we are going to change the header of the dataframe and search for the specific row on where the\n",
    "# total population data on each Muncipality/City will be extracted.\n",
    "for loc in mun_list:\n",
    "    list_prov.append(rename_col(df_prov, loc))\n",
    "\n",
    "# to get every total population value and store it on a list for reg7\n",
    "for val in list_prov:\n",
    "    list_reg_val.append(val['Total Population'])"
   ]
  },
  {
   "cell_type": "markdown",
   "id": "76d06823",
   "metadata": {},
   "source": [
    "### <span style=\"color:blue;\"> Summary dataframe for Population data grouped by City/Mun/Province on task 4 groupings</span>\n",
    "#### The Municipalities with \"Group name\" containing \"(Prov)\" are part of a single group in task 4 and in here, I intend to display them by Municipality, showing their respective population numbers without aggregating them."
   ]
  },
  {
   "cell_type": "code",
   "execution_count": 314,
   "id": "a59f1966",
   "metadata": {
    "scrolled": true
   },
   "outputs": [
    {
     "data": {
      "text/html": [
       "<div>\n",
       "<style scoped>\n",
       "    .dataframe tbody tr th:only-of-type {\n",
       "        vertical-align: middle;\n",
       "    }\n",
       "\n",
       "    .dataframe tbody tr th {\n",
       "        vertical-align: top;\n",
       "    }\n",
       "\n",
       "    .dataframe thead th {\n",
       "        text-align: right;\n",
       "    }\n",
       "</style>\n",
       "<table border=\"1\" class=\"dataframe\">\n",
       "  <thead>\n",
       "    <tr style=\"text-align: right;\">\n",
       "      <th></th>\n",
       "      <th>Total Population</th>\n",
       "    </tr>\n",
       "    <tr>\n",
       "      <th>Group</th>\n",
       "      <th></th>\n",
       "    </tr>\n",
       "  </thead>\n",
       "  <tbody>\n",
       "    <tr>\n",
       "      <th>Cebu City</th>\n",
       "      <td>964169.0</td>\n",
       "    </tr>\n",
       "    <tr>\n",
       "      <th>Lapu lapu City</th>\n",
       "      <td>497604.0</td>\n",
       "    </tr>\n",
       "    <tr>\n",
       "      <th>Moalboal Mun</th>\n",
       "      <td>36930.0</td>\n",
       "    </tr>\n",
       "    <tr>\n",
       "      <th>Mandaue City</th>\n",
       "      <td>364116.0</td>\n",
       "    </tr>\n",
       "    <tr>\n",
       "      <th>Badian Mun (Prov)</th>\n",
       "      <td>43735.0</td>\n",
       "    </tr>\n",
       "    <tr>\n",
       "      <th>Dalaguete Mun (Prov)</th>\n",
       "      <td>74596.0</td>\n",
       "    </tr>\n",
       "    <tr>\n",
       "      <th>Oslob Mun (Prov)</th>\n",
       "      <td>29264.0</td>\n",
       "    </tr>\n",
       "    <tr>\n",
       "      <th>Samboan Mun (Prov)</th>\n",
       "      <td>20373.0</td>\n",
       "    </tr>\n",
       "    <tr>\n",
       "      <th>Sibonga Mun (Prov)</th>\n",
       "      <td>53424.0</td>\n",
       "    </tr>\n",
       "    <tr>\n",
       "      <th>Santa Fe. Mun (Prov)</th>\n",
       "      <td>34471.0</td>\n",
       "    </tr>\n",
       "  </tbody>\n",
       "</table>\n",
       "</div>"
      ],
      "text/plain": [
       "                      Total Population\n",
       "Group                                 \n",
       "Cebu City                     964169.0\n",
       "Lapu lapu City                497604.0\n",
       "Moalboal Mun                   36930.0\n",
       "Mandaue City                  364116.0\n",
       "Badian Mun (Prov)              43735.0\n",
       "Dalaguete Mun (Prov)           74596.0\n",
       "Oslob Mun (Prov)               29264.0\n",
       "Samboan Mun (Prov)             20373.0\n",
       "Sibonga Mun (Prov)             53424.0\n",
       "Santa Fe. Mun (Prov)           34471.0"
      ]
     },
     "execution_count": 314,
     "metadata": {},
     "output_type": "execute_result"
    }
   ],
   "source": [
    "pop_data = {'Total Population': [cebcty.iloc[1], lapcty.iloc[1], moalmun.iloc[1], mancty.iloc[1], \n",
    "                                 list_reg_val[0], list_reg_val[1], list_reg_val[2], list_reg_val[3], \n",
    "                                 list_reg_val[4], list_reg_val[5]]}\n",
    "\n",
    "index = ['Cebu City', 'Lapu lapu City', 'Moalboal Mun', 'Mandaue City', \n",
    "         'Badian Mun (Prov)', 'Dalaguete Mun (Prov)', 'Oslob Mun (Prov)', \n",
    "         'Samboan Mun (Prov)', 'Sibonga Mun (Prov)', 'Santa Fe. Mun (Prov)']\n",
    "\n",
    "# creating data frame for summary data\n",
    "df_pop_data = pd.DataFrame(pop_data, index=index)\n",
    "df_pop_data.index.name = 'Group'\n",
    "df_pop_data"
   ]
  },
  {
   "cell_type": "markdown",
   "id": "6f8c5c29",
   "metadata": {},
   "source": [
    "## Extracting primary and secondary language data from data.humdata.org\n",
    "\n",
    "#### Primary Language source"
   ]
  },
  {
   "cell_type": "code",
   "execution_count": 315,
   "id": "dd97b0e8",
   "metadata": {},
   "outputs": [
    {
     "name": "stdout",
     "output_type": "stream",
     "text": [
      "File 'ph_lang_admin2v01.csv' already exists. Skipping download.\n"
     ]
    }
   ],
   "source": [
    "url = 'https://data.humdata.org/dataset/4383caa9-b4e0-4608-80f6-2b74482fe8bd/resource/fb35553c-e3bc-4044-9729-8351ad4650f5/download/ph_lang_admin2_v01.csv' # source\n",
    "file_name = 'ph_lang_admin2v01.csv'\n",
    "\n",
    "# Check if the file already exists, if not, it will pull the file from the data.humdata.org webpage\n",
    "if not os.path.exists(file_name):\n",
    "    with open(file_name, 'wb') as f:\n",
    "        f.write(requests.get(url).content)\n",
    "    print(f\"File '{file_name}' downloaded successfully.\")\n",
    "else:\n",
    "    print(f\"File '{file_name}' already exists. Skipping download.\")"
   ]
  },
  {
   "cell_type": "markdown",
   "id": "7671ee60",
   "metadata": {},
   "source": [
    "#### Secondary Language source"
   ]
  },
  {
   "cell_type": "code",
   "execution_count": 316,
   "id": "b4d583b6",
   "metadata": {},
   "outputs": [
    {
     "name": "stdout",
     "output_type": "stream",
     "text": [
      "File 'ph_lang_admin01v01.csv' already exists. Skipping download.\n"
     ]
    }
   ],
   "source": [
    "url = 'https://data.humdata.org/dataset/4383caa9-b4e0-4608-80f6-2b74482fe8bd/resource/851e0755-14ff-43f4-ab14-04bcab7bf9a3/download/ph_lang_admin0_v01.csv' # source\n",
    "file_name = 'ph_lang_admin01v01.csv'\n",
    "\n",
    "# Check if the file already exists, if not, it will pull the file from the data.humdata.org webpage\n",
    "if not os.path.exists(file_name):\n",
    "    with open(file_name, 'wb') as f:\n",
    "        f.write(requests.get(url).content)\n",
    "    print(f\"File '{file_name}' downloaded successfully.\")\n",
    "else:\n",
    "    print(f\"File '{file_name}' already exists. Skipping download.\")"
   ]
  },
  {
   "cell_type": "code",
   "execution_count": 317,
   "id": "9c435772",
   "metadata": {},
   "outputs": [],
   "source": [
    "# path to the pulled file from data.humdata.org - Primary language\n",
    "csv_file_path1 = 'ph_lang_admin2v01.csv'\n",
    "\n",
    "# path to the pulled file from data.humdata.org - Secondary language\n",
    "csv_file_path2 = 'ph_lang_admin01v01.csv'"
   ]
  },
  {
   "cell_type": "markdown",
   "id": "2702055a",
   "metadata": {},
   "source": [
    "#### <span style=\"color:blue;\">In here were gonna see that for Cebu, the primary or the main language is 'Cebuano'. Cebu is also a part of Region 7 together with Bohol, Negros Oriental, and Siquijor.</span>"
   ]
  },
  {
   "cell_type": "code",
   "execution_count": 318,
   "id": "cb418ac5",
   "metadata": {
    "scrolled": false
   },
   "outputs": [
    {
     "data": {
      "text/html": [
       "<div>\n",
       "<style scoped>\n",
       "    .dataframe tbody tr th:only-of-type {\n",
       "        vertical-align: middle;\n",
       "    }\n",
       "\n",
       "    .dataframe tbody tr th {\n",
       "        vertical-align: top;\n",
       "    }\n",
       "\n",
       "    .dataframe thead th {\n",
       "        text-align: right;\n",
       "    }\n",
       "</style>\n",
       "<table border=\"1\" class=\"dataframe\">\n",
       "  <thead>\n",
       "    <tr style=\"text-align: right;\">\n",
       "      <th></th>\n",
       "      <th>admin2_name</th>\n",
       "      <th>admin2_pcode</th>\n",
       "      <th>admin1_name</th>\n",
       "      <th>admin1_pcode</th>\n",
       "      <th>admin0_name</th>\n",
       "      <th>admin0_pcode</th>\n",
       "      <th>number_of_named_languages</th>\n",
       "      <th>main_language</th>\n",
       "      <th>main_language_share</th>\n",
       "      <th>Adasen</th>\n",
       "      <th>...</th>\n",
       "      <th>Other languages</th>\n",
       "      <th>pop_total</th>\n",
       "      <th>pop_male</th>\n",
       "      <th>pop_female</th>\n",
       "      <th>literacy_all</th>\n",
       "      <th>literacy_male</th>\n",
       "      <th>literacy_female</th>\n",
       "      <th>language_data_yn</th>\n",
       "      <th>data_confidence</th>\n",
       "      <th>notes</th>\n",
       "    </tr>\n",
       "  </thead>\n",
       "  <tbody>\n",
       "    <tr>\n",
       "      <th>34</th>\n",
       "      <td>PH072200000</td>\n",
       "      <td>Cebu</td>\n",
       "      <td>Central Visayas (Region VII)</td>\n",
       "      <td>PH070000000</td>\n",
       "      <td>Philippines (the)</td>\n",
       "      <td>PH</td>\n",
       "      <td>5</td>\n",
       "      <td>Cebuano</td>\n",
       "      <td>0.876</td>\n",
       "      <td>0</td>\n",
       "      <td>...</td>\n",
       "      <td>0.001</td>\n",
       "      <td>4632359</td>\n",
       "      <td>2337313</td>\n",
       "      <td>2295046</td>\n",
       "      <td>0.983</td>\n",
       "      <td>0.983</td>\n",
       "      <td>0.983</td>\n",
       "      <td>Y</td>\n",
       "      <td>High</td>\n",
       "      <td>NaN</td>\n",
       "    </tr>\n",
       "  </tbody>\n",
       "</table>\n",
       "<p>1 rows × 122 columns</p>\n",
       "</div>"
      ],
      "text/plain": [
       "    admin2_name admin2_pcode                   admin1_name admin1_pcode  \\\n",
       "34  PH072200000         Cebu  Central Visayas (Region VII)  PH070000000   \n",
       "\n",
       "          admin0_name admin0_pcode number_of_named_languages main_language  \\\n",
       "34  Philippines (the)           PH                         5       Cebuano   \n",
       "\n",
       "   main_language_share Adasen  ... Other languages pop_total pop_male  \\\n",
       "34               0.876      0  ...           0.001   4632359  2337313   \n",
       "\n",
       "   pop_female literacy_all literacy_male literacy_female language_data_yn  \\\n",
       "34    2295046        0.983         0.983           0.983                Y   \n",
       "\n",
       "   data_confidence notes  \n",
       "34            High   NaN  \n",
       "\n",
       "[1 rows x 122 columns]"
      ]
     },
     "execution_count": 318,
     "metadata": {},
     "output_type": "execute_result"
    }
   ],
   "source": [
    "ceb_data1= []\n",
    "\n",
    "data_lang1 = pd.read_csv(csv_file_path1, encoding='latin1')\n",
    "\n",
    "# will search for the Cebu in the data frame\n",
    "for index, row in data_lang1.iterrows():\n",
    "    if row['admin2_pcode'] == 'Cebu':\n",
    "        ceb_data1.append(row)\n",
    "        \n",
    "df_ceb_data1 = pd.DataFrame(ceb_data1)\n",
    "df_ceb_data1"
   ]
  },
  {
   "cell_type": "markdown",
   "id": "6ae3c5c8",
   "metadata": {},
   "source": [
    "#### <span style=\"color:blue;\">Secondary language</span>\n",
    "##### Tagalog is the most dominant language based on the data from data.humdata.org, so I will use this as the secondary language"
   ]
  },
  {
   "cell_type": "code",
   "execution_count": 319,
   "id": "267674b9",
   "metadata": {},
   "outputs": [
    {
     "data": {
      "text/html": [
       "<div>\n",
       "<style scoped>\n",
       "    .dataframe tbody tr th:only-of-type {\n",
       "        vertical-align: middle;\n",
       "    }\n",
       "\n",
       "    .dataframe tbody tr th {\n",
       "        vertical-align: top;\n",
       "    }\n",
       "\n",
       "    .dataframe thead th {\n",
       "        text-align: right;\n",
       "    }\n",
       "</style>\n",
       "<table border=\"1\" class=\"dataframe\">\n",
       "  <thead>\n",
       "    <tr style=\"text-align: right;\">\n",
       "      <th></th>\n",
       "      <th>ï»¿admin0_name</th>\n",
       "      <th>admin0_pcode</th>\n",
       "      <th>number_of_named_languages</th>\n",
       "      <th>main_language</th>\n",
       "      <th>main_language_share</th>\n",
       "      <th>Akeanon</th>\n",
       "      <th>Bikol</th>\n",
       "      <th>Bisaya/Binisaya</th>\n",
       "      <th>B'laan/Blaan language group</th>\n",
       "      <th>CapizeÃ±o</th>\n",
       "      <th>...</th>\n",
       "      <th>Other languages</th>\n",
       "      <th>pop_total</th>\n",
       "      <th>pop_male</th>\n",
       "      <th>pop_female</th>\n",
       "      <th>literacy_all</th>\n",
       "      <th>literacy_male</th>\n",
       "      <th>literacy_female</th>\n",
       "      <th>language_data_yn</th>\n",
       "      <th>data_confidence</th>\n",
       "      <th>notes</th>\n",
       "    </tr>\n",
       "  </thead>\n",
       "  <tbody>\n",
       "    <tr>\n",
       "      <th>1</th>\n",
       "      <td>Philippines (the)</td>\n",
       "      <td>PH</td>\n",
       "      <td>41</td>\n",
       "      <td>Tagalog</td>\n",
       "      <td>0.533</td>\n",
       "      <td>0.004</td>\n",
       "      <td>0.032</td>\n",
       "      <td>0.118</td>\n",
       "      <td>0.002</td>\n",
       "      <td>0.005</td>\n",
       "      <td>...</td>\n",
       "      <td>0.006</td>\n",
       "      <td>100979303</td>\n",
       "      <td>51069962</td>\n",
       "      <td>49909341</td>\n",
       "      <td>0.971</td>\n",
       "      <td>0.97</td>\n",
       "      <td>0.972</td>\n",
       "      <td>Y</td>\n",
       "      <td>High</td>\n",
       "      <td>NaN</td>\n",
       "    </tr>\n",
       "  </tbody>\n",
       "</table>\n",
       "<p>1 rows × 56 columns</p>\n",
       "</div>"
      ],
      "text/plain": [
       "      ï»¿admin0_name admin0_pcode number_of_named_languages main_language  \\\n",
       "1  Philippines (the)           PH                        41       Tagalog   \n",
       "\n",
       "  main_language_share Akeanon  Bikol Bisaya/Binisaya  \\\n",
       "1               0.533   0.004  0.032           0.118   \n",
       "\n",
       "  B'laan/Blaan language group CapizeÃ±o  ... Other languages  pop_total  \\\n",
       "1                       0.002     0.005  ...           0.006  100979303   \n",
       "\n",
       "   pop_male pop_female literacy_all literacy_male literacy_female  \\\n",
       "1  51069962   49909341        0.971          0.97           0.972   \n",
       "\n",
       "  language_data_yn data_confidence notes  \n",
       "1                Y            High   NaN  \n",
       "\n",
       "[1 rows x 56 columns]"
      ]
     },
     "execution_count": 319,
     "metadata": {},
     "output_type": "execute_result"
    }
   ],
   "source": [
    "ceb_data2= []\n",
    "\n",
    "data_lang2 = pd.read_csv(csv_file_path2, encoding='latin1')\n",
    "\n",
    "# will search for the Phillipines in the data frame\n",
    "for index, row in data_lang2.iterrows():\n",
    "    if row['ï»¿admin0_name'] == 'Philippines (the)':\n",
    "        ceb_data2.append(row)\n",
    "        \n",
    "df_ceb_data2 = pd.DataFrame(ceb_data2)\n",
    "df_ceb_data2"
   ]
  },
  {
   "cell_type": "markdown",
   "id": "ea157837",
   "metadata": {},
   "source": [
    "### <span style=\"color:blue;\">Updated Summary dataframe</span>"
   ]
  },
  {
   "cell_type": "code",
   "execution_count": 320,
   "id": "f11afcb0",
   "metadata": {},
   "outputs": [],
   "source": [
    "if 'Primary Language' not in df_pop_data.columns or 'Secondary Language' not in df_pop_data.columns:\n",
    "    df_pop_data.insert(loc=1, column='Primary Language', value='Cebuano')\n",
    "    df_pop_data.insert(loc=2, column='Secondary Language', value='Tagalog') "
   ]
  },
  {
   "cell_type": "code",
   "execution_count": 321,
   "id": "02389edf",
   "metadata": {},
   "outputs": [
    {
     "data": {
      "text/html": [
       "<div>\n",
       "<style scoped>\n",
       "    .dataframe tbody tr th:only-of-type {\n",
       "        vertical-align: middle;\n",
       "    }\n",
       "\n",
       "    .dataframe tbody tr th {\n",
       "        vertical-align: top;\n",
       "    }\n",
       "\n",
       "    .dataframe thead th {\n",
       "        text-align: right;\n",
       "    }\n",
       "</style>\n",
       "<table border=\"1\" class=\"dataframe\">\n",
       "  <thead>\n",
       "    <tr style=\"text-align: right;\">\n",
       "      <th></th>\n",
       "      <th>Total Population</th>\n",
       "      <th>Primary Language</th>\n",
       "      <th>Secondary Language</th>\n",
       "    </tr>\n",
       "    <tr>\n",
       "      <th>Group</th>\n",
       "      <th></th>\n",
       "      <th></th>\n",
       "      <th></th>\n",
       "    </tr>\n",
       "  </thead>\n",
       "  <tbody>\n",
       "    <tr>\n",
       "      <th>Cebu City</th>\n",
       "      <td>964169.0</td>\n",
       "      <td>Cebuano</td>\n",
       "      <td>Tagalog</td>\n",
       "    </tr>\n",
       "    <tr>\n",
       "      <th>Lapu lapu City</th>\n",
       "      <td>497604.0</td>\n",
       "      <td>Cebuano</td>\n",
       "      <td>Tagalog</td>\n",
       "    </tr>\n",
       "    <tr>\n",
       "      <th>Moalboal Mun</th>\n",
       "      <td>36930.0</td>\n",
       "      <td>Cebuano</td>\n",
       "      <td>Tagalog</td>\n",
       "    </tr>\n",
       "    <tr>\n",
       "      <th>Mandaue City</th>\n",
       "      <td>364116.0</td>\n",
       "      <td>Cebuano</td>\n",
       "      <td>Tagalog</td>\n",
       "    </tr>\n",
       "    <tr>\n",
       "      <th>Badian Mun (Prov)</th>\n",
       "      <td>43735.0</td>\n",
       "      <td>Cebuano</td>\n",
       "      <td>Tagalog</td>\n",
       "    </tr>\n",
       "    <tr>\n",
       "      <th>Dalaguete Mun (Prov)</th>\n",
       "      <td>74596.0</td>\n",
       "      <td>Cebuano</td>\n",
       "      <td>Tagalog</td>\n",
       "    </tr>\n",
       "    <tr>\n",
       "      <th>Oslob Mun (Prov)</th>\n",
       "      <td>29264.0</td>\n",
       "      <td>Cebuano</td>\n",
       "      <td>Tagalog</td>\n",
       "    </tr>\n",
       "    <tr>\n",
       "      <th>Samboan Mun (Prov)</th>\n",
       "      <td>20373.0</td>\n",
       "      <td>Cebuano</td>\n",
       "      <td>Tagalog</td>\n",
       "    </tr>\n",
       "    <tr>\n",
       "      <th>Sibonga Mun (Prov)</th>\n",
       "      <td>53424.0</td>\n",
       "      <td>Cebuano</td>\n",
       "      <td>Tagalog</td>\n",
       "    </tr>\n",
       "    <tr>\n",
       "      <th>Santa Fe. Mun (Prov)</th>\n",
       "      <td>34471.0</td>\n",
       "      <td>Cebuano</td>\n",
       "      <td>Tagalog</td>\n",
       "    </tr>\n",
       "  </tbody>\n",
       "</table>\n",
       "</div>"
      ],
      "text/plain": [
       "                      Total Population Primary Language Secondary Language\n",
       "Group                                                                     \n",
       "Cebu City                     964169.0          Cebuano            Tagalog\n",
       "Lapu lapu City                497604.0          Cebuano            Tagalog\n",
       "Moalboal Mun                   36930.0          Cebuano            Tagalog\n",
       "Mandaue City                  364116.0          Cebuano            Tagalog\n",
       "Badian Mun (Prov)              43735.0          Cebuano            Tagalog\n",
       "Dalaguete Mun (Prov)           74596.0          Cebuano            Tagalog\n",
       "Oslob Mun (Prov)               29264.0          Cebuano            Tagalog\n",
       "Samboan Mun (Prov)             20373.0          Cebuano            Tagalog\n",
       "Sibonga Mun (Prov)             53424.0          Cebuano            Tagalog\n",
       "Santa Fe. Mun (Prov)           34471.0          Cebuano            Tagalog"
      ]
     },
     "execution_count": 321,
     "metadata": {},
     "output_type": "execute_result"
    }
   ],
   "source": [
    "df_pop_data"
   ]
  },
  {
   "cell_type": "markdown",
   "id": "ebfe1b0f",
   "metadata": {},
   "source": [
    "## Extracting reviews/description of each City/Municipality\n",
    "\n",
    "##### <span style=\"color:blue;\">Below is a list of URL's to a specific page in TripAdvisor on where we will scrappe data"
   ]
  },
  {
   "cell_type": "code",
   "execution_count": 322,
   "id": "5bc20106",
   "metadata": {},
   "outputs": [],
   "source": [
    "desrev = ['https://www.tripadvisor.com/Tourism-g298460-Cebu_City_Cebu_Island_Visayas-Vacations.html',\n",
    "         'https://www.tripadvisor.com/Tourism-g298461-Lapu_Lapu_Mactan_Island_Cebu_Island_Visayas-Vacations.html',\n",
    "         'https://www.tripadvisor.com/Tourism-g663539-Moalboal_Cebu_Island_Visayas-Vacations.html',\n",
    "         'https://www.tripadvisor.com/Tourism-g608518-Mandaue_Cebu_Island_Visayas-Vacations.html',\n",
    "         'https://www.tripadvisor.com/Tourism-g2140591-Badian_Cebu_Island_Visayas-Vacations.html',\n",
    "         'https://www.tripadvisor.com/Tourism-g1498929-Dalaguete_Cebu_Island_Visayas-Vacations.html',\n",
    "         'https://www.tripadvisor.com/Tourism-g3226128-Oslob_Cebu_Island_Visayas-Vacations.html',\n",
    "         'https://www.tripadvisor.com/Tourism-g7351247-Samboan_Cebu_Island_Visayas-Vacations.html',\n",
    "         'https://www.tripadvisor.com/Tourism-g3814813-Sibonga_Cebu_Island_Visayas-Vacations.html',\n",
    "         'https://www.tripadvisor.com/Tourism-g2450335-Santa_Fe_Bantayan_Island_Cebu_Island_Visayas-Vacations.html']"
   ]
  },
  {
   "cell_type": "markdown",
   "id": "6c1ee80f",
   "metadata": {},
   "source": [
    "##### <span style=\"color:blue;\">Below is a function to scrappe review/description data"
   ]
  },
  {
   "cell_type": "code",
   "execution_count": 323,
   "id": "5a6dc20e",
   "metadata": {},
   "outputs": [],
   "source": [
    "# Scrapping Tourist sites reviews\n",
    "def scrape_rev(url_x):    \n",
    "    service = Service(executable_path=CHKS) \n",
    "    options = webdriver.EdgeOptions()\n",
    "    options.add_argument(\"--headless\")\n",
    "    driver = webdriver.Edge(service=service, options=options)\n",
    "\n",
    "    # Use Selenium to open the webpage\n",
    "    driver.get(url_x)\n",
    "\n",
    "    # Number of times to scroll down\n",
    "    num_scrolls = random.randint(5,6)\n",
    "\n",
    "    # Delay between each scroll action (in seconds)\n",
    "    scroll_delay = random.randint(2,3)  # Adjust as needed\n",
    "\n",
    "    # Perform scrolling\n",
    "    for i in range(num_scrolls):\n",
    "        driver.find_element(By.TAG_NAME, 'body').send_keys(Keys.PAGE_DOWN)\n",
    "        time.sleep(scroll_delay)\n",
    "\n",
    "    # Retrieve the entire page source\n",
    "    page_source = driver.page_source\n",
    "    \n",
    "    rev_elem_list = []\n",
    "\n",
    "    # Parse the page source with BeautifulSoup and Find the element                                                \n",
    "    soup = BeautifulSoup(page_source, 'html.parser')\n",
    "    name_element = soup.find_all(['span', 'div'], class_=['biGQs _P fiohW fOtGX','UpQlM'])\n",
    "    for element in name_element:\n",
    "        if 'from $' not in element.text.strip():\n",
    "            rev_elem_list.append(element.text.strip())\n",
    "        else:\n",
    "            pass\n",
    "\n",
    "    # Close the browser\n",
    "    driver.quit()\n",
    "            \n",
    "    return rev_elem_list"
   ]
  },
  {
   "cell_type": "markdown",
   "id": "a433c779",
   "metadata": {},
   "source": [
    "##### <span style=\"color:blue;\">The data output of this scrapping is not exactly a review but rather it is more of a description/guide on where is the best hotel, restaurant and tourist site in the place. It also gives customer advices on what is the best time of the year to travel in the place."
   ]
  },
  {
   "cell_type": "code",
   "execution_count": 247,
   "id": "3e954b72",
   "metadata": {},
   "outputs": [
    {
     "name": "stdout",
     "output_type": "stream",
     "text": [
      "URL No. 1 out of 10, Please wait . . .\n",
      "URL No. 2 out of 10, Please wait . . .\n",
      "URL No. 3 out of 10, Please wait . . .\n",
      "URL No. 4 out of 10, Please wait . . .\n",
      "URL No. 5 out of 10, Please wait . . .\n",
      "URL No. 6 out of 10, Please wait . . .\n",
      "URL No. 7 out of 10, Please wait . . .\n",
      "URL No. 8 out of 10, Please wait . . .\n",
      "URL No. 9 out of 10, Please wait . . .\n",
      "URL No. 10 out of 10, Please wait . . .\n",
      "Done\n"
     ]
    }
   ],
   "source": [
    "# Batch 1 scrapping review/description data\n",
    "rev_data = []\n",
    "link_ctr = 0\n",
    "\n",
    "for link in desrev:\n",
    "    link_ctr+=1\n",
    "    if link_ctr <= 10:\n",
    "        print(f'URL No. {link_ctr} out of 10, Please wait . . .')\n",
    "        rev_data.append(scrape_rev(link))\n",
    "        time.sleep(random.randint(4,6))\n",
    "        if link_ctr == 10:\n",
    "            print('Done')"
   ]
  },
  {
   "cell_type": "markdown",
   "id": "f9dade27",
   "metadata": {},
   "source": [
    "##### <span style=\"color:blue;\">Result from scrapping"
   ]
  },
  {
   "cell_type": "code",
   "execution_count": 324,
   "id": "eef1c9a4",
   "metadata": {
    "scrolled": true
   },
   "outputs": [
    {
     "name": "stdout",
     "output_type": "stream",
     "text": [
      "['We recommend staying at one of the most popular hotels in Cebu City, which include: Quest Hotel and Conference Center - CebuRadisson Blu CebuWaterfront Cebu City Hotel & CasinoFili Hotel CebuSeda Ayala Center Cebu', 'Some of the most popular restaurants in Cebu City include: FeriaThe Pig & PalmVikings Luxury Buffet, SM City CebuHouse of LechonAnzani', 'Cebu City is known for some of its popular attractions, which include: Temple of LeahAyala Center CebuSirao Flower GardenCebu Ocean ParkBasilica del Santo Niño', 'We recommend checking out these popular tours when looking for something to do in Cebu City: Whale Shark Encounter and Sumilon Sandbar with Kawasan FallsPrivate Cebu & Lapu-Lapu City Tour with Uphill Spots & Lunch at House of LechonBohol Day Tour with Round-Trip Transfers from CebuWhale Shark Snorkeling w/ Tumalog Falls & Canyoneering in KawasanPescador Island with Sardines & Turtle and Canyoneering in Kawasan Falls', \"If you're a more budget-conscious traveler, then you may want to consider traveling to Cebu City between September and November, when hotel prices are generally the lowest. Peak hotel prices generally start between June and August.\"]\n",
      "\n",
      "\n",
      "['We recommend staying at one of the most popular hotels in Lapu Lapu, which include: Shangri-La Mactan, Cebu Bluewater Maribago Beach ResortDusit Thani Mactan Cebu ResortPlantation Bay Resort And SpaSheraton Cebu Mactan Resort', 'Some of the most popular restaurants in Lapu Lapu include: Benjarong MactanScape SkydeckTides at Shangri-La Mactan, CebuCookPub - Modern Korean BistroAzure Beach Club', 'Lapu Lapu is known for some of its popular attractions, which include: Caohagan IslandLapu Lapu StatueNature Wellness Massage & SpaVano Public BeachAmuma Spa', 'We recommend checking out these popular tours when looking for something to do in Lapu Lapu: Bohol Chocolate Hills & Tarsiers with roundtrip ferry from CebuCebu Oslob Whalesharks, Sumilon & Kawasan Waterfalls TourWild n Wowed Cebu Tour: Whale Shark Snorkeling, Kawasan Canyoneering and ZiplinePrivate Kawasan Falls Canyoning w/ Lunch & InsuranceCEBU Island Hopping Tour to Nalusuan Island', \"If you're a more budget-conscious traveler, then you may want to consider traveling to Lapu Lapu between December and February, when hotel prices are generally the lowest. Peak hotel prices generally start between June and August.\"]\n",
      "\n",
      "\n",
      "['We recommend staying at one of the most popular hotels in Moalboal, which include: The Blue Orchid ResortTurtle Bay Dive ResortDolphin-House Resort-SPA-DivingQuo Vadis Dive ResortPescadores Suites Moalboal', 'Some of the most popular restaurants in Moalboal include: Hungry MonkeysThe Three BearsDaily Sweet Cafe & Snow Ice ShopKugita Seafood & Charcoal GrillSmooth Cafe Moalboal', 'Moalboal is known for some of its popular attractions, which include: Pescador IslandPanagsama BeachBasdaku White BeachBasdaku BeachMoalboal Spa And Massage', 'We recommend checking out these popular tours when looking for something to do in Moalboal: Kawasan Canyoneering AdventureWhaleshark Encounter + Pescador Island AdventureSardines and Turtle Hunting in Pescador Island with Kawasan Falls from Cebu CityPescador Island + Whaleshark Adventure TourMalapascua Island Hopping Private Tour in Cebu', \"If you're a more budget-conscious traveler, then you may want to consider traveling to Moalboal between September and November, when hotel prices are generally the lowest. Peak hotel prices generally start between June and August.\"]\n",
      "\n",
      "\n",
      "['We recommend staying at one of the most popular hotels in Mandaue, which include: bai Hotel CebuCebu Westown LagoonMaayo HotelCopenhagen ResidencesToyoko Inn', 'Some of the most popular restaurants in Mandaue include: Cafe baiUME Japanese CuisineMarble + Grain SteakhouseBuffet 101Jump Shot Sports Bar', 'Mandaue is known for some of its popular attractions, which include: Skywaterpark CebuLIV Super ClubTrademark CebuJ Centre MallSlabadu Cafe and Bistro', 'We recommend checking out these popular tours when looking for something to do in Mandaue: Cebu City famous historical tourMactan Island HoppingCebu Whaleshark JourneysWhale Shark Watching and Sumilon Sandbar Private Tour PackageSelf-Guided South of Cebu (4D3N)', \"If you're a more budget-conscious traveler, then you may want to consider traveling to Mandaue between September and November, when hotel prices are generally the lowest. Peak hotel prices generally start between June and August.\"]\n",
      "\n",
      "\n",
      "['We recommend staying at one of the most popular hotels in Badian, which include: Lambug Beach HomestayMatutinao Beach & CottagesCuestas Beach Resort And RestaurantGrandeur Beach ResortAllure Badian Beach Villa', 'Some of the most popular restaurants in Badian include: Cuestas Beach Resort And RestaurantEskapo VerdePayag RestuarantLRR filipino and Korean foodBiaños Badian', 'We recommend checking out these popular tours when looking for something to do in Badian: Badian Canyoneering Adventure and Kawasan Waterfalls Private TourKawasan Falls Canyoneering, Cebu Island, PhilippinesOslob Whaleshark and Kawasan Falls Tour - SHARED TOURBest View in Cebu: Dinner at Top of Cebu RestaurantKawasan Falls Canyoneering Adventure', \"If you're a more budget-conscious traveler, then you may want to consider traveling to Badian between December and February, when hotel prices are generally the lowest. Peak hotel prices generally start between June and August.\"]\n",
      "\n",
      "\n",
      "['We recommend staying at one of the most popular hotels in Dalaguete, which include: Ocean Bay Beach ResortThe Beach HouseOYO 457 Dakong Bato Beach And Leisure ResortJust Inn ResortSeaview Mansion', \"Some of the most popular restaurants in Dalaguete include: Barrio KusinaThe GazeboKioskofi DalagueteJust NoodlesLucy's Kitchen\", 'Dalaguete is known for some of its popular attractions, which include: Osmena PeakDalaguete Beach ParkObong SpringKandungaw PeakSan Guillermo de Aquitana Church', \"If you're a more budget-conscious traveler, then you may want to consider traveling to Dalaguete between June and August, when hotel prices are generally the lowest. Peak hotel prices generally start between September and November.\"]\n",
      "\n",
      "\n",
      "['We recommend staying at one of the most popular hotels in Oslob, which include: Brumini Beds and Beach Resort OslobDown South 118 Beach ResortGing Ging Hotel & ResortSeascape Beach ResortSeafari Resort', 'Some of the most popular restaurants in Oslob include: Brice BBQ & GrillLe BistrotVLK Pizzeria & Creperie RestaurantLa TerrasseChez Tonton', 'Oslob is known for some of its popular attractions, which include: Tumalog FallsCuartel RuinsOur Lady of the Immaculate Conception ChurchTan-awan Cangcuay BeachRuins of Oslob', 'We recommend checking out these popular tours when looking for something to do in Oslob: Dumaguete Manjuyod Sandbar & Balinsasayao Twin Lakes TourPulangbato Falls Tour & Hot Spring From DumagueteDumaguete Apo Island Snorkeling TourSiquijor Island Tour From DumagueteSwimming with Whale Sharks and Canyoneering in Badian, Cebu, Philippines', \"If you're a more budget-conscious traveler, then you may want to consider traveling to Oslob between September and November, when hotel prices are generally the lowest. Peak hotel prices generally start between June and August.\"]\n",
      "\n",
      "\n",
      "[\"We recommend staying at one of the most popular hotels in Samboan, which include: Fantasy LodgeGorion Beach ResortMDF Beach ResortCarolina del MarMeitly's Beach House\", 'Samboan is known for some of its popular attractions, which include: Aguinid FallsDao WaterfallsBinalayan Hidden WaterfallsBonbon FallsDau Falls', \"If you're a more budget-conscious traveler, then you may want to consider traveling to Samboan between September and November, when hotel prices are generally the lowest. Peak hotel prices generally start between June and August.\"]\n",
      "\n",
      "\n",
      "[]\n",
      "\n",
      "\n",
      "['We recommend staying at one of the most popular hotels in Santa Fe, which include: Anika Island ResortLa Playa Estrella Beach ResortMarlins Beach ResortSanta Fe Beach ClubKandugyap House By The Sea', 'Some of the most popular restaurants in Santa Fe include: Bantayan Burrito CompanyStumble Inn Beach ClubSarapoiThai-Phoon and Kalye 42 by Thai-Phoon RestaurantKota Beach Resort Restaurant', 'Santa Fe is known for some of its popular attractions, which include: Marikaban BeachAto Ni Bai, Karaoke BarSanta Fe Butterfly GardenRuins Cliff Diving SpotBavarian Beergarden Bantayan', \"If you're a more budget-conscious traveler, then you may want to consider traveling to Santa Fe between December and February, when hotel prices are generally the lowest. Peak hotel prices generally start between June and August.\"]\n",
      "\n",
      "\n"
     ]
    }
   ],
   "source": [
    "clnd_rev_data = []\n",
    "\n",
    "# removing the unwanted/unnecessary data\n",
    "for data in rev_data:\n",
    "    if 'Terms of UsePrivacy and Cookies StatementCookie consentSite MapHow the site worksContact us' in data:\n",
    "        clnd_rev_data.append(data[:-1])\n",
    "        print(f'{data[:-1]}\\n\\n')\n",
    "        \n",
    "# below is the printed data from scraping"
   ]
  },
  {
   "cell_type": "markdown",
   "id": "23130314",
   "metadata": {},
   "source": [
    "### <span style=\"color:blue;\">Updated Summary by inserting review/description</span>"
   ]
  },
  {
   "cell_type": "code",
   "execution_count": 325,
   "id": "218d42ad",
   "metadata": {},
   "outputs": [],
   "source": [
    "# inserting the review/description column and values\n",
    "if 'Review/Description' not in df_pop_data.columns:\n",
    "    df_pop_data.insert(loc=1, column='Review/Description', value=clnd_rev_data)\n",
    "    "
   ]
  },
  {
   "cell_type": "code",
   "execution_count": 326,
   "id": "91b45e71",
   "metadata": {},
   "outputs": [
    {
     "data": {
      "text/html": [
       "<div>\n",
       "<style scoped>\n",
       "    .dataframe tbody tr th:only-of-type {\n",
       "        vertical-align: middle;\n",
       "    }\n",
       "\n",
       "    .dataframe tbody tr th {\n",
       "        vertical-align: top;\n",
       "    }\n",
       "\n",
       "    .dataframe thead th {\n",
       "        text-align: right;\n",
       "    }\n",
       "</style>\n",
       "<table border=\"1\" class=\"dataframe\">\n",
       "  <thead>\n",
       "    <tr style=\"text-align: right;\">\n",
       "      <th></th>\n",
       "      <th>Total Population</th>\n",
       "      <th>Review/Description</th>\n",
       "      <th>Primary Language</th>\n",
       "      <th>Secondary Language</th>\n",
       "    </tr>\n",
       "    <tr>\n",
       "      <th>Group</th>\n",
       "      <th></th>\n",
       "      <th></th>\n",
       "      <th></th>\n",
       "      <th></th>\n",
       "    </tr>\n",
       "  </thead>\n",
       "  <tbody>\n",
       "    <tr>\n",
       "      <th>Cebu City</th>\n",
       "      <td>964169.0</td>\n",
       "      <td>[We recommend staying at one of the most popul...</td>\n",
       "      <td>Cebuano</td>\n",
       "      <td>Tagalog</td>\n",
       "    </tr>\n",
       "    <tr>\n",
       "      <th>Lapu lapu City</th>\n",
       "      <td>497604.0</td>\n",
       "      <td>[We recommend staying at one of the most popul...</td>\n",
       "      <td>Cebuano</td>\n",
       "      <td>Tagalog</td>\n",
       "    </tr>\n",
       "    <tr>\n",
       "      <th>Moalboal Mun</th>\n",
       "      <td>36930.0</td>\n",
       "      <td>[We recommend staying at one of the most popul...</td>\n",
       "      <td>Cebuano</td>\n",
       "      <td>Tagalog</td>\n",
       "    </tr>\n",
       "    <tr>\n",
       "      <th>Mandaue City</th>\n",
       "      <td>364116.0</td>\n",
       "      <td>[We recommend staying at one of the most popul...</td>\n",
       "      <td>Cebuano</td>\n",
       "      <td>Tagalog</td>\n",
       "    </tr>\n",
       "    <tr>\n",
       "      <th>Badian Mun (Prov)</th>\n",
       "      <td>43735.0</td>\n",
       "      <td>[We recommend staying at one of the most popul...</td>\n",
       "      <td>Cebuano</td>\n",
       "      <td>Tagalog</td>\n",
       "    </tr>\n",
       "    <tr>\n",
       "      <th>Dalaguete Mun (Prov)</th>\n",
       "      <td>74596.0</td>\n",
       "      <td>[We recommend staying at one of the most popul...</td>\n",
       "      <td>Cebuano</td>\n",
       "      <td>Tagalog</td>\n",
       "    </tr>\n",
       "    <tr>\n",
       "      <th>Oslob Mun (Prov)</th>\n",
       "      <td>29264.0</td>\n",
       "      <td>[We recommend staying at one of the most popul...</td>\n",
       "      <td>Cebuano</td>\n",
       "      <td>Tagalog</td>\n",
       "    </tr>\n",
       "    <tr>\n",
       "      <th>Samboan Mun (Prov)</th>\n",
       "      <td>20373.0</td>\n",
       "      <td>[We recommend staying at one of the most popul...</td>\n",
       "      <td>Cebuano</td>\n",
       "      <td>Tagalog</td>\n",
       "    </tr>\n",
       "    <tr>\n",
       "      <th>Sibonga Mun (Prov)</th>\n",
       "      <td>53424.0</td>\n",
       "      <td>[]</td>\n",
       "      <td>Cebuano</td>\n",
       "      <td>Tagalog</td>\n",
       "    </tr>\n",
       "    <tr>\n",
       "      <th>Santa Fe. Mun (Prov)</th>\n",
       "      <td>34471.0</td>\n",
       "      <td>[We recommend staying at one of the most popul...</td>\n",
       "      <td>Cebuano</td>\n",
       "      <td>Tagalog</td>\n",
       "    </tr>\n",
       "  </tbody>\n",
       "</table>\n",
       "</div>"
      ],
      "text/plain": [
       "                      Total Population  \\\n",
       "Group                                    \n",
       "Cebu City                     964169.0   \n",
       "Lapu lapu City                497604.0   \n",
       "Moalboal Mun                   36930.0   \n",
       "Mandaue City                  364116.0   \n",
       "Badian Mun (Prov)              43735.0   \n",
       "Dalaguete Mun (Prov)           74596.0   \n",
       "Oslob Mun (Prov)               29264.0   \n",
       "Samboan Mun (Prov)             20373.0   \n",
       "Sibonga Mun (Prov)             53424.0   \n",
       "Santa Fe. Mun (Prov)           34471.0   \n",
       "\n",
       "                                                     Review/Description  \\\n",
       "Group                                                                     \n",
       "Cebu City             [We recommend staying at one of the most popul...   \n",
       "Lapu lapu City        [We recommend staying at one of the most popul...   \n",
       "Moalboal Mun          [We recommend staying at one of the most popul...   \n",
       "Mandaue City          [We recommend staying at one of the most popul...   \n",
       "Badian Mun (Prov)     [We recommend staying at one of the most popul...   \n",
       "Dalaguete Mun (Prov)  [We recommend staying at one of the most popul...   \n",
       "Oslob Mun (Prov)      [We recommend staying at one of the most popul...   \n",
       "Samboan Mun (Prov)    [We recommend staying at one of the most popul...   \n",
       "Sibonga Mun (Prov)                                                   []   \n",
       "Santa Fe. Mun (Prov)  [We recommend staying at one of the most popul...   \n",
       "\n",
       "                     Primary Language Secondary Language  \n",
       "Group                                                     \n",
       "Cebu City                     Cebuano            Tagalog  \n",
       "Lapu lapu City                Cebuano            Tagalog  \n",
       "Moalboal Mun                  Cebuano            Tagalog  \n",
       "Mandaue City                  Cebuano            Tagalog  \n",
       "Badian Mun (Prov)             Cebuano            Tagalog  \n",
       "Dalaguete Mun (Prov)          Cebuano            Tagalog  \n",
       "Oslob Mun (Prov)              Cebuano            Tagalog  \n",
       "Samboan Mun (Prov)            Cebuano            Tagalog  \n",
       "Sibonga Mun (Prov)            Cebuano            Tagalog  \n",
       "Santa Fe. Mun (Prov)          Cebuano            Tagalog  "
      ]
     },
     "execution_count": 326,
     "metadata": {},
     "output_type": "execute_result"
    }
   ],
   "source": [
    "# there is no data available from the target website on Sibonga Municipality\n",
    "df_pop_data\n",
    "\n",
    "# I cant find also the data for available transportation in every city"
   ]
  },
  {
   "cell_type": "code",
   "execution_count": 328,
   "id": "7dc9af64",
   "metadata": {},
   "outputs": [],
   "source": [
    "# saving data frame into csv file\n",
    "df_pop_data.to_csv('Tourist_site_Task5.csv')"
   ]
  }
 ],
 "metadata": {
  "kernelspec": {
   "display_name": "SP702",
   "language": "python",
   "name": "sp702"
  },
  "language_info": {
   "codemirror_mode": {
    "name": "ipython",
    "version": 3
   },
   "file_extension": ".py",
   "mimetype": "text/x-python",
   "name": "python",
   "nbconvert_exporter": "python",
   "pygments_lexer": "ipython3",
   "version": "3.10.7"
  }
 },
 "nbformat": 4,
 "nbformat_minor": 5
}
